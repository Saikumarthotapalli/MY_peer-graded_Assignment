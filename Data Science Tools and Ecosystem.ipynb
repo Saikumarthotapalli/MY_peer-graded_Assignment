{
 "cells": [
  {
   "cell_type": "markdown",
   "id": "ccda52b3",
   "metadata": {},
   "source": [
    "# Data Science Tools and Ecosystem"
   ]
  },
  {
   "cell_type": "markdown",
   "id": "79e2a07e",
   "metadata": {},
   "source": [
    "In this notebook, Data Science Tools and Ecosystem are summarized."
   ]
  },
  {
   "cell_type": "markdown",
   "id": "e52defbe",
   "metadata": {},
   "source": [
    "Some of the popular languages that Data Scientists use are:\n",
    "    \n",
    "    1.Python\n",
    "    2.SQL\n",
    "    3.R\n",
    "    4.Java\n",
    "    5.Scala\n",
    "\n",
    "    "
   ]
  },
  {
   "cell_type": "markdown",
   "id": "cce1ca45",
   "metadata": {},
   "source": [
    "Some of the commonly used libraries used by Data Scientists include:\n",
    "    \n",
    "    1.Pandas\n",
    "    2.Numpy\n",
    "    3.Scipy\n",
    "    4.Matplotlib\n",
    "    5.Scikit-Learn\n",
    "    6.TensorFlow\n",
    "    7.Keras\n",
    "    "
   ]
  },
  {
   "cell_type": "markdown",
   "id": "4f7d17da",
   "metadata": {},
   "source": [
    "Data Science Tools\n",
    "\n",
    "|Data Science Tools |\n",
    "| -------------|\n",
    "| Jupyter | \n",
    "| SAS |\n",
    "| Apache Spark|\n",
    "| Big ML|\n",
    " \n"
   ]
  },
  {
   "cell_type": "markdown",
   "id": "2a124f7a",
   "metadata": {},
   "source": [
    "### Below are a few examples of evaluating arithmetic expressions in Python\n"
   ]
  },
  {
   "cell_type": "code",
   "execution_count": 4,
   "id": "4d78be69",
   "metadata": {},
   "outputs": [
    {
     "name": "stdout",
     "output_type": "stream",
     "text": [
      "4.3\n"
     ]
    }
   ],
   "source": [
    "# airthematic operation\n",
    "a=1.3+3\n",
    "print(a)"
   ]
  },
  {
   "cell_type": "code",
   "execution_count": 5,
   "id": "30e5fa85",
   "metadata": {},
   "outputs": [
    {
     "name": "stdout",
     "output_type": "stream",
     "text": [
      "7\n",
      "-1\n",
      "12\n",
      "0.75\n"
     ]
    }
   ],
   "source": [
    "a=3\n",
    "b=4\n",
    "add=a+b\n",
    "sub=a-b\n",
    "mul=a*b\n",
    "div=a/b\n",
    "print(add)\n",
    "print(sub)\n",
    "print(mul)\n",
    "print(div)"
   ]
  },
  {
   "cell_type": "code",
   "execution_count": 7,
   "id": "77f112b9",
   "metadata": {},
   "outputs": [
    {
     "name": "stdout",
     "output_type": "stream",
     "text": [
      "17\n"
     ]
    }
   ],
   "source": [
    "#This a simple arithmetic expression to mutiply then add integers.\n",
    "a=(3*4)+5\n",
    "print(a)"
   ]
  },
  {
   "cell_type": "code",
   "execution_count": 8,
   "id": "863d31ae",
   "metadata": {},
   "outputs": [
    {
     "name": "stdout",
     "output_type": "stream",
     "text": [
      "200 minutes is equal to 3.3333333333333335 hours\n"
     ]
    }
   ],
   "source": [
    "# This will convert 200 minutes to hours by diving by 60.\n",
    "\n",
    "minutes = 200\n",
    "hours = minutes / 60\n",
    "print(\"200 minutes is equal to\", hours, \"hours\")\n",
    "\n"
   ]
  },
  {
   "cell_type": "markdown",
   "id": "45f081c0",
   "metadata": {},
   "source": [
    "**Objectives:**\n",
    "- List of popular languages used in Data Scientists.\n",
    "- List commonly used libraries in Data Scientists.\n",
    "- How to use Comment in Data Science tools.\n",
    "\n"
   ]
  },
  {
   "cell_type": "markdown",
   "id": "b78997c8",
   "metadata": {},
   "source": [
    "## Author ##\n",
    "\n",
    "Lakshmi Holla"
   ]
  },
  {
   "cell_type": "code",
   "execution_count": null,
   "id": "075ba0ca",
   "metadata": {},
   "outputs": [],
   "source": []
  }
 ],
 "metadata": {
  "kernelspec": {
   "display_name": "Python 3 (ipykernel)",
   "language": "python",
   "name": "python3"
  },
  "language_info": {
   "codemirror_mode": {
    "name": "ipython",
    "version": 3
   },
   "file_extension": ".py",
   "mimetype": "text/x-python",
   "name": "python",
   "nbconvert_exporter": "python",
   "pygments_lexer": "ipython3",
   "version": "3.11.4"
  }
 },
 "nbformat": 4,
 "nbformat_minor": 5
}
